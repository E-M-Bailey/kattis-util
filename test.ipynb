{
 "cells": [
  {
   "cell_type": "code",
   "execution_count": null,
   "id": "e8564e8c",
   "metadata": {},
   "outputs": [],
   "source": [
    "import kattis\n",
    "from kattis import Kattis, Submission, Problem, Contest, User\n",
    "\n",
    "kattis = Kattis()\n",
    "print(kattis.login().text)"
   ]
  },
  {
   "cell_type": "code",
   "execution_count": null,
   "id": "8836fcb6",
   "metadata": {},
   "outputs": [],
   "source": []
  }
 ],
 "metadata": {
  "kernelspec": {
   "display_name": ".venv",
   "language": "python",
   "name": "python3"
  },
  "language_info": {
   "codemirror_mode": {
    "name": "ipython",
    "version": 3
   },
   "file_extension": ".py",
   "mimetype": "text/x-python",
   "name": "python",
   "nbconvert_exporter": "python",
   "pygments_lexer": "ipython3",
   "version": "3.12.3"
  }
 },
 "nbformat": 4,
 "nbformat_minor": 5
}
